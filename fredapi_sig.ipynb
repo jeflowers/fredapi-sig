{
 "cells": [
  {
   "cell_type": "markdown",
   "metadata": {},
   "source": [
    "# FredPyAPI: A Python Wrapper for the FRED API\n",
    "\n",
    "This notebook contains the implementation of `FredPyAPI`, a Python class that wraps the Federal Reserve Economic Data (FRED) API. It includes security features like RSA and PGP signature verification for API tokens."
   ]
  },
  {
   "cell_type": "code",
   "execution_count": null,
   "metadata": {},
   "outputs": [],
   "source": [
    "import requests\n",
    "from typing import Optional\n",
    "from cryptography.hazmat.primitives import hashes\n",
    "from cryptography.hazmat.primitives.asymmetric import padding, rsa\n",
    "from cryptography.exceptions import InvalidSignature\n",
    "from base64 import b64encode, b64decode\n",
    "import gnupg"
   ]
  },
  {
   "cell_type": "markdown",
   "metadata": {},
   "source": [
    "## FredPyAPI Class Definition"
   ]
  },
  {
   "cell_type": "code",
   "execution_count": null,
   "metadata": {},
   "outputs": [],
   "source": [
    "class FredPyAPI:\n",
    "    BASE_URL = \"https://api.stlouisfed.org/fred/\"\n",
    "    \n",
    "    def __init__(self):\n",
    "        self.token = None\n",
    "        self.token_signature = None\n",
    "        self.public_key = None\n",
    "        self.gpg = gnupg.GPG()\n",
    "    \n",
    "    def set_public_key(self, public_key_pem: str):\n",
    "        from cryptography.hazmat.primitives.serialization import load_pem_public_key\n",
    "        self.public_key = load_pem_public_key(public_key_pem.encode())\n",
    "    \n",
    "    def set_token_rsa(self, token: str, token_signature: str) -> None:\n",
    "        if self.verify_token_rsa(token, token_signature):\n",
    "            self.token = token\n",
    "            self.token_signature = token_signature\n",
    "        else:\n",
    "            raise ValueError(\"Token verification failed\")\n",
    "    \n",
    "    def verify_token_rsa(self, token: str, signature: str) -> bool:\n",
    "        if not self.public_key:\n",
    "            raise ValueError(\"Public key not set. Use set_public_key method first.\")\n",
    "        \n",
    "        try:\n",
    "            self.public_key.verify(\n",
    "                b64decode(signature),\n",
    "                token.encode(),\n",
    "                padding.PSS(\n",
    "                    mgf=padding.MGF1(hashes.SHA256()),\n",
    "                    salt_length=padding.PSS.MAX_LENGTH\n",
    "                ),\n",
    "                hashes.SHA256()\n",
    "            )\n",
    "            return True\n",
    "        except InvalidSignature:\n",
    "            return False\n",
    "    \n",
    "    def import_public_key_pgp(self, public_key_path: str):\n",
    "        with open(public_key_path, 'r') as f:\n",
    "            import_result = self.gpg.import_keys(f.read())\n",
    "        if not import_result.fingerprints:\n",
    "            raise ValueError(\"Failed to import public key\")\n",
    "    \n",
    "    def verify_and_set_token_pgp(self, signed_token_path: str):\n",
    "        with open(signed_token_path, 'r') as f:\n",
    "            verified = self.gpg.verify_file(f)\n",
    "        if verified:\n",
    "            self.token = verified.data.decode().strip()\n",
    "        else:\n",
    "            raise ValueError(\"Token verification failed\")\n",
    "    \n",
    "    def _make_request(self, endpoint: str, params: dict) -> dict:\n",
    "        if not self.token:\n",
    "            raise ValueError(\"API token is not set. Use set_token_rsa() or verify_and_set_token_pgp() method to set it.\")\n",
    "        \n",
    "        params['api_key'] = self.token\n",
    "        params['file_type'] = 'json'\n",
    "        \n",
    "        response = requests.get(f\"{self.BASE_URL}{endpoint}\", params=params)\n",
    "        response.raise_for_status()\n",
    "        return response.json()\n",
    "    \n",
    "    def get_series_data(self, series_id: str) -> dict:\n",
    "        return self._make_request(\"series\", {\"series_id\": series_id})\n",
    "    \n",
    "    def get_historical_data(self, series_id: str, observation_start: Optional[str] = None, observation_end: Optional[str] = None) -> dict:\n",
    "        params = {\"series_id\": series_id}\n",
    "        if observation_start:\n",
    "            params[\"observation_start\"] = observation_start\n",
    "        if observation_end:\n",
    "            params[\"observation_end\"] = observation_end\n",
    "        return self._make_request(\"series/observations\", params)\n",
    "    \n",
    "    def get_categories(self, category_id: int = 0) -> dict:\n",
    "        return self._make_request(\"category\", {\"category_id\": category_id})\n",
    "    \n",
    "    def get_releases(self, realtime_start: Optional[str] = None, realtime_end: Optional[str] = None) -> dict:\n",
    "        params = {}\n",
    "        if realtime_start:\n",
    "            params[\"realtime_start\"] = realtime_start\n",
    "        if realtime_end:\n",
    "            params[\"realtime_end\"] = realtime_end\n",
    "        return self._make_request(\"releases\", params)"
   ]
  },
  {
   "cell_type": "markdown",
   "metadata": {},
   "source": [
    "## Usage Example\n",
    "\n",
    "Here's an example of how to use the `FredPyAPI` class. Note that you'll need to replace the placeholder values with your actual API key and other required information."
   ]
  },
  {
   "cell_type": "code",
   "execution_count": null,
   "metadata": {},
   "outputs": [],
   "source": [
    "# Initialize the API wrapper\n",
    "fred_api = FredPyAPI()\n",
    "\n",
    "# Set up RSA verification (replace with your actual public key)\n",
    "public_key_pem = \"\"\"-----BEGIN PUBLIC KEY-----\n",
    "... (your public key here) ...\n",
    "-----END PUBLIC KEY-----\"\"\"\n",
    "fred_api.set_public_key(public_key_pem)\n",
    "\n",
    "# Set the token with RSA verification (replace with your actual token and signature)\n",
    "fred_api.set_token_rsa(\"your_api_token_here\", \"base64_encoded_signature_here\")\n",
    "\n",
    "# Alternatively, use PGP verification\n",
    "# fred_api.import_public_key_pgp(\"path_to_public_key.asc\")\n",
    "# fred_api.verify_and_set_token_pgp(\"path_to_signed_token.txt\")\n",
    "\n",
    "# Now you can use the API methods\n",
    "series_data = fred_api.get_series_data(\"GDP\")\n",
    "print(series_data)\n",
    "\n",
    "historical_data = fred_api.get_historical_data(\"GDP\", observation_start=\"2020-01-01\", observation_end=\"2023-12-31\")\n",
    "print(historical_data)\n",
    "\n",
    "categories = fred_api.get_categories()\n",
    "print(categories)\n",
    "\n",
    "releases = fred_api.get_releases(realtime_start=\"2023-01-01\")\n",
    "print(releases)"
   ]
  },
  {
   "cell_type": "markdown",
   "metadata": {},
   "source": [
    "Remember to replace the placeholder values with your actual FRED API key and other required information before running the example code."
   ]
  }
 ],
 "metadata": {
  "kernelspec": {
   "display_name": "Python 3",
   "language": "python",
   "name": "python3"
  },
  "language_info": {
   "codemirror_mode": {
    "name": "ipython",
    "version": 3
   },
   "file_extension": ".py",
   "mimetype": "text/x-python",
   "name": "python",
   "nbconvert_exporter": "python",
   "pygments_lexer": "ipython3",
   "version": "3.8.10"
  }
 },
 "nbformat": 4,
 "nbformat_minor": 4
}
